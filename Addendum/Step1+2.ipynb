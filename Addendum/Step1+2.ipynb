{
  "nbformat": 4,
  "nbformat_minor": 0,
  "metadata": {
    "colab": {
      "name": "Step1+2.ipynb",
      "provenance": [],
      "collapsed_sections": []
    },
    "kernelspec": {
      "name": "python3",
      "display_name": "Python 3"
    }
  },
  "cells": [
    {
      "cell_type": "code",
      "metadata": {
        "id": "ynTV5Twmc7ty"
      },
      "source": [
        "import torch\n",
        "import torch.nn as nn\n",
        "\n",
        "class Attention(nn.Module):\n",
        "    \"\"\" Applies attention mechanism on the `context` using the `query`.\n",
        "\n",
        "    **Thank you** to IBM for their initial implementation of :class:`Attention`. Here is\n",
        "    their `License\n",
        "    <https://github.com/IBM/pytorch-seq2seq/blob/master/LICENSE>`__.\n",
        "\n",
        "    Args:\n",
        "        dimensions (int): Dimensionality of the query and context.\n",
        "        attention_type (str, optional): How to compute the attention score:\n",
        "\n",
        "            * dot: :math:`score(H_j,q) = H_j^T q`\n",
        "            * general: :math:`score(H_j, q) = H_j^T W_a q`\n",
        "\n",
        "    Example:\n",
        "\n",
        "         >>> attention = Attention(256)\n",
        "         >>> query = torch.randn(5, 1, 256)\n",
        "         >>> context = torch.randn(5, 5, 256)\n",
        "         >>> output, weights = attention(query, context)\n",
        "         >>> output.size()\n",
        "         torch.Size([5, 1, 256])\n",
        "         >>> weights.size()\n",
        "         torch.Size([5, 1, 5])\n",
        "    \"\"\"\n",
        "\n",
        "    def __init__(self, dimensions, attention_type='dot'): # USING DOT PRODUCT ATTENTION\n",
        "        super(Attention, self).__init__()\n",
        "\n",
        "        if attention_type not in ['dot', 'general']:\n",
        "            raise ValueError('Invalid attention type selected.')\n",
        "\n",
        "        self.attention_type = attention_type\n",
        "        if self.attention_type == 'general':\n",
        "            self.linear_in = nn.Linear(dimensions, dimensions, bias=False)\n",
        "\n",
        "        self.linear_out = nn.Linear(dimensions * 2, dimensions, bias=False)\n",
        "        self.softmax = nn.Softmax(dim=-1)\n",
        "        self.tanh = nn.Tanh()\n",
        "\n",
        "    def forward(self, query, context):\n",
        "        \"\"\"\n",
        "        Args:\n",
        "            query (:class:`torch.FloatTensor` [batch size, output length, dimensions]): Sequence of\n",
        "                queries to query the context.\n",
        "            context (:class:`torch.FloatTensor` [batch size, query length, dimensions]): Data\n",
        "                overwhich to apply the attention mechanism.\n",
        "\n",
        "        Returns:\n",
        "            :class:`tuple` with `output` and `weights`:\n",
        "            * **output** (:class:`torch.LongTensor` [batch size, output length, dimensions]):\n",
        "              Tensor containing the attended features.\n",
        "            * **weights** (:class:`torch.FloatTensor` [batch size, output length, query length]):\n",
        "              Tensor containing attention weights.\n",
        "        \"\"\"\n",
        "        batch_size, output_len, dimensions = query.size()\n",
        "        query_len = context.size(1)\n",
        "\n",
        "        if self.attention_type == \"general\":\n",
        "            query = query.reshape(batch_size * output_len, dimensions)\n",
        "            query = self.linear_in(query)\n",
        "            query = query.reshape(batch_size, output_len, dimensions)\n",
        "\n",
        "        # TODO: Include mask on PADDING_INDEX?\n",
        "\n",
        "        # (batch_size, output_len, dimensions) * (batch_size, query_len, dimensions) ->\n",
        "        # (batch_size, output_len, query_len)\n",
        "        attention_scores = torch.bmm(query, context.transpose(1, 2).contiguous())\n",
        "\n",
        "        # Compute weights across every context sequence\n",
        "        attention_scores = attention_scores.view(batch_size * output_len, query_len)\n",
        "        #import pdb; pdb.set_trace() # Check for attention scores\n",
        "        attention_weights = self.softmax(attention_scores)\n",
        "        attention_weights = attention_weights.view(batch_size, output_len, query_len)\n",
        "\n",
        "        # (batch_size, output_len, query_len) * (batch_size, query_len, dimensions) ->\n",
        "        # (batch_size, output_len, dimensions)\n",
        "        mix = torch.bmm(attention_weights, context)\n",
        "\n",
        "        # concat -> (batch_size * output_len, 2*dimensions)\n",
        "        combined = torch.cat((mix, query), dim=2)\n",
        "        combined = combined.view(batch_size * output_len, 2 * dimensions)\n",
        "\n",
        "        # Apply linear_out on every 2nd dimension of concat\n",
        "        # output -> (batch_size, output_len, dimensions)\n",
        "        output = self.linear_out(combined).view(batch_size, output_len, dimensions)\n",
        "        output = self.tanh(output)\n",
        "\n",
        "        return output, attention_weights"
      ],
      "execution_count": null,
      "outputs": []
    },
    {
      "cell_type": "code",
      "metadata": {
        "id": "azmgT-mjp3i8"
      },
      "source": [
        "!pip install transformers\n",
        "import time\n",
        "import matplotlib.pyplot as plt\n",
        "import numpy as np\n",
        "import statistics\n",
        "import math"
      ],
      "execution_count": null,
      "outputs": []
    },
    {
      "cell_type": "code",
      "metadata": {
        "id": "9JKKfi7bSiTL"
      },
      "source": [
        "#Useful functions\n",
        "\n",
        "def find_max_mode(list1):\n",
        "    list_table = statistics._counts(list1)\n",
        "    len_table = len(list_table)\n",
        "\n",
        "    if len_table == 1:\n",
        "        max_mode = statistics.mode(list1)\n",
        "    else:\n",
        "        new_list = []\n",
        "        for i in range(len_table):\n",
        "            new_list.append(list_table[i][0])\n",
        "        max_mode = max(new_list) # use the max value here\n",
        "    return max_mode\n",
        "\n",
        "def rectified(x):\n",
        "\treturn max(0.0, x)"
      ],
      "execution_count": null,
      "outputs": []
    },
    {
      "cell_type": "code",
      "metadata": {
        "id": "SThkJpsQqenY"
      },
      "source": [
        "from transformers import AutoTokenizer, AutoModel, AutoModelForQuestionAnswering\n",
        "\n",
        "#LOAD QA MODEL\n",
        "model_name_or_path = \"bert-base-uncased\" # Uncased avoids weird attention spikes on the discrimination task. For example, \"Are\" vs \"are\"\n",
        "attention_size = 768 # 768 for bert-base\n",
        "tokenizer = AutoTokenizer.from_pretrained(model_name_or_path)\n",
        "model = AutoModelForQuestionAnswering.from_pretrained(model_name_or_path)\n",
        "device = torch.device(\"cuda\" if torch.cuda.is_available() else \"cpu\")\n",
        "model = model.to(device)\n",
        "\n",
        "#LOAD QA MODEL\n",
        "model_name_or_path = \"mrm8488/spanbert-finetuned-squadv2\" # This model tends to produce embeddings that are worse for the discriminator task, but the model performs better at the QA task\n",
        "model_qa = AutoModelForQuestionAnswering.from_pretrained(model_name_or_path)\n",
        "tokenizer_qa = AutoTokenizer.from_pretrained(model_name_or_path)\n",
        "device = torch.device(\"cuda\" if torch.cuda.is_available() else \"cpu\")\n",
        "model_qa = model_qa.to(device)\n",
        "\n",
        "print('success!')\n",
        "# Note: Very interesting result is that bert-base-uncased seems to have much noisier attention than the fine-tuned spanbert, but bert-base-uncased seems to have fewer freak errors and picks discriminators more reliably. Why? Maybe because the discrimination task is actually just an LM task, which is different from QA."
      ],
      "execution_count": null,
      "outputs": []
    },
    {
      "cell_type": "code",
      "metadata": {
        "id": "0_-z4zfPF0rY"
      },
      "source": [
        "# BUILDING FUNCTION FOR DISCRIMINATOR FINDER USING MAX MINUS MODE ATTENTION DIFFERENCE\n",
        "\n",
        "def find_max_discriminator(question_list, context):\n",
        "  num_questions = len(question_list)\n",
        "  discrimination_strength = {}\n",
        "  max_discriminator_embedding_list = []\n",
        "  max_discriminator_token_list = []\n",
        "  \n",
        "  for qxn in range(num_questions):\n",
        "    question = question_list[qxn] # Set question.\n",
        "    discrimination_strength.clear()\n",
        "    question_ids = tokenizer.encode(question, return_tensors=\"pt\")\n",
        "    question_tokens = tokenizer.convert_ids_to_tokens(question_ids[0])\n",
        "    question_length = len(question_ids[0])\n",
        "    for ind in range(question_length):\n",
        "      current_id = question_ids[0][ind:ind+1].unsqueeze(0)\n",
        "      current_token = tokenizer.convert_ids_to_tokens(current_id.item())\n",
        "      current_embedding = model.bert.embeddings.word_embeddings(current_id) # These are raw embeddings.\n",
        "      output, weights = attention(current_embedding, context_embeddings)\n",
        "      y = weights[0][0].tolist()\n",
        "      difference = max(y) - find_max_mode(y)\n",
        "      close_difference = difference*(3/4)\n",
        "      word_count = len([i for i in y if i > close_difference]) # Count number of words above threshold of 95% range\n",
        "      print(f\"The word count for {current_token} is {word_count}\")\n",
        "      if current_token != '[CLS]': # We don't want to include the [CLS] token in the attention comparison\n",
        "        print(f\"The word-count adjustment for {current_token} is {math.sqrt(word_count)}\")\n",
        "        discrimination_strength[current_id] = difference\n",
        "        discrimination_strength[current_id] = difference / math.sqrt(word_count) # Discriminate by difference and by count\n",
        "        print(f\"The discrimination strength for {current_token} is {discrimination_strength[current_id]}\") # Print discrimination strength\n",
        "        if discrimination_strength[current_id] >= max(discrimination_strength.values()):\n",
        "          max_discriminator = current_id\n",
        "          #print(f\"Best discriminator updated to {current_token}\")\n",
        "    max_discriminator_embedding = model.bert.embeddings.word_embeddings(max_discriminator)\n",
        "    max_discriminator_token = tokenizer.convert_ids_to_tokens(max_discriminator)\n",
        "    print(f\"{qxn}: The maximum discriminator token for question '{question}' is {max_discriminator_token}\")\n",
        "    print(\" \")\n",
        "    max_discriminator_embedding_list.append(max_discriminator_embedding)\n",
        "    max_discriminator_token_list.append(max_discriminator_token)\n",
        "  return max_discriminator_embedding_list, max_discriminator_token_list\n",
        "\n",
        "  #The main problem with this discriminator is when two things are true: \n",
        "  #a) There is an exact match to a relatively distinct word (such as \"mile\" in \"what is the name of the prison in the green mile\") \n",
        "  #that distracts from a non-exact match of a more pertinent word (such as \"prison\" in the previous sentence, \n",
        "  #which is mismatched against the true use of \"penitentiary\" in the context). The attention difference between the exact match and the\n",
        "  #inexact match will almost always wash things out."
      ],
      "execution_count": null,
      "outputs": []
    },
    {
      "cell_type": "code",
      "metadata": {
        "id": "KkNgPzL8T-ZC"
      },
      "source": [
        "# STORE ALL QUESTION TOKENS FROM ONE QUESTION FOR INVESTIGATION\n",
        "\n",
        "def find_token_attentions(question_list, context, which_question):\n",
        "  #num_questions = len(question_list)\n",
        "  token_embedding_list = []\n",
        "  token_list = []\n",
        "  \n",
        "  #for qxn in range(num_questions):\n",
        "  question = question_list[which_question] # Set question.\n",
        "  question_ids = tokenizer.encode(question, return_tensors=\"pt\")\n",
        "  question_tokens = tokenizer.convert_ids_to_tokens(question_ids[0])\n",
        "  question_length = len(question_ids[0])\n",
        "  for ind in range(question_length):\n",
        "    current_id = question_ids[0][ind:ind+1].unsqueeze(0)\n",
        "    current_token = tokenizer.convert_ids_to_tokens(current_id.item())\n",
        "    current_embedding = model.bert.embeddings.word_embeddings(current_id) # These are raw embeddings.\n",
        "      #output, weights = attention(current_embedding, context_embeddings)\n",
        "      #y = weights[0][0].tolist()\n",
        "      #difference = max(y) - find_max_mode(y)\n",
        "      #if current_token != '[CLS]': # We don't want to include the [CLS] token in the attention comparison\n",
        "        #discrimination_strength[current_id] = difference\n",
        "        #print(f\"The discrimination strength for {current_token} is {difference}\") # Print discrimination strength\n",
        "        #if difference >= max(discrimination_strength.values()):\n",
        "          #max_discriminator = current_id\n",
        "          #print(f\"Best discriminator updated to {current_token}\")\n",
        "    #max_discriminator_embedding = model.bert.embeddings.word_embeddings(max_discriminator)\n",
        "    #max_discriminator_token = tokenizer.convert_ids_to_tokens(max_discriminator)\n",
        "    #print(f\"{qxn}: The maximum discriminator token for question '{question}' is {max_discriminator_token}\")\n",
        "    token_embedding_list.append(current_embedding)\n",
        "    token_list.append(current_token)\n",
        "  return token_embedding_list,token_list"
      ],
      "execution_count": null,
      "outputs": []
    },
    {
      "cell_type": "code",
      "metadata": {
        "id": "Z3N6W59Td8qI"
      },
      "source": [
        "context = f\"\"\"Rules Conflicts {tokenizer.sep_token}\n",
        "Precedence. If a card conflicts with the Law, follow the card. If the Learning to Play guide conflicts with the Law, follow the Law. If you can follow both a general rule and a faction rule, follow both; if you cannot, follow the faction rule. {tokenizer.sep_token}\n",
        "Use of Cannot. The term cannot is absolute. It cannot be overridden unless explicitly instructed. {tokenizer.sep_token}\n",
        "Simultaneous Effects. If two game effects occur simultaneously, the player taking the current turn chooses their order, unless explicitly instructed. {tokenizer.sep_token}\n",
        "Use of Treat. If you are prompted to treat one thing as another, the former takes on all the properties of the latter. (For example, if you caused Outrage while treating yourself as another player, the other player would give the card.) {tokenizer.sep_token}\n",
        "Public and Private Information {tokenizer.sep_token}\n",
        "Hands. Players may only show or reveal cards in their hand if explicitly instructed, but the number of cards in their hand is public information.{tokenizer.sep_token}\n",
        "Discard. The discard pile can be searched and inspected at any time. {tokenizer.sep_token}\n",
        "Negotiation and Deals {tokenizer.sep_token}\n",
        "Agreements. Players may discuss the game and make agreements, but they are non-binding. {tokenizer.sep_token}\n",
        "Cards. Players may only give cards to each other if explicitly instructed. {tokenizer.sep_token}\n",
        "Players and Factions {tokenizer.sep_token}\n",
        "For simplicity, the Law refers to players, not factions. However, game effects (such as abilities and persistent effects) are properties of factions, not players. While controlling pieces of a faction they do not own, a player follows the rules of that faction unless explicitly instructed. {tokenizer.sep_token}\n",
        "Game Structure {tokenizer.sep_token}\n",
        "Each player’s turn has three phases: Birdsong, Daylight, and Evening. After a player completes all three phases, the next clockwise player begins their turn. Play continues until one player has won the game (3.1). {tokenizer.sep_token}\n",
        "Key Terms and Concepts {tokenizer.sep_token}\n",
        "Cards {tokenizer.sep_token}\n",
        "Each card has a suit: bird, fox, rabbit, or mouse. Most cards also have an effect you can craft (4.1). {tokenizer.sep_token}\n",
        "Birds Are Wild. You can treat any bird card as a card of another suit, even if you must spend, take, or give multiple cards of the same suit. {tokenizer.sep_token}\n",
        "Forced Effects. If you are prompted to discard or give a fox, rabbit, or mouse card, you must treat your bird cards as the prompted suit. {tokenizer.sep_token}\n",
        "Reverse Substitution. If you are prompted to spend, discard, take, or give a bird card, you cannot substitute a card of another suit. {tokenizer.sep_token}\n",
        "Drawing Cards. Whenever you are prompted to draw a card, take it from the shared deck. If the deck is ever empty, shuffle the discard pile immediately to form a new deck. {tokenizer.sep_token}\n",
        "Spending and Discarding Cards. Whenever you are prompted to discard or spend a card, place it in the shared discard pile unless it is a dominance card (3.3). {tokenizer.sep_token}\n",
        "Revealing Cards. Whenever you are prompted to reveal a card, place it in your play area (2.6). {tokenizer.sep_token}\n",
        "Ambush Cards. There are five ambush cards: one mouse, one rabbit, one fox, and two birds. You may spend an ambush card for its suit, but it does not have a crafted effect. You may also play one in battle to deal hits (4.3.1). {tokenizer.sep_token}\n",
        "Dominance Cards. There are four dominance cards matching the four suits. You may spend a dominance card for its suit, but it cannot be crafted. You may also play one to permanently change your victory condition (3.3). {tokenizer.sep_token}\n",
        "Clearings and Paths {tokenizer.sep_token}\n",
        "The map of the Woodland is composed of many clearings linked by paths. {tokenizer.sep_token}\n",
        "Adjacency. A clearing is adjacent to all other clearings linked to it by a path. {tokenizer.sep_token}\n",
        "Suit. Each clearing has a suit: mouse, rabbit, or fox. {tokenizer.sep_token}\n",
        "Slots. Each clearing has a number of slots (white boxes). Whenever you place a building, it fills an open slot. You cannot place a building in a clearing with no open slots. {tokenizer.sep_token}\n",
        "Ruins. Slots marked with a small “R” begin the game filled with ruins. Ruins can only be removed by the Vagabond’s Explore action (9.5.3). {tokenizer.sep_token}\n",
        "Rivers {tokenizer.sep_token}\n",
        "Many clearings are linked by rivers. By default rivers are not paths, but can be treated as paths if explicitly instructed. Rivers do not divide clearings or forests. {tokenizer.sep_token} \n",
        "Forests {tokenizer.sep_token}\n",
        "Areas on the map enclosed by paths and clearings are called forests. {tokenizer.sep_token}\n",
        "Adjacency. A forest is adjacent to all clearings that touch it without crossing a path, and it is adjacent to all forests that are separated by only one path. {tokenizer.sep_token}\n",
        "Pieces {tokenizer.sep_token}\n",
        "Each faction has a set of pieces listed on the back of its faction board. Pieces are limited by the contents of the game. If you are prompted to place, take, or remove any number of pieces but you cannot, you must place, take, or remove the maximum number possible. {tokenizer.sep_token}\n",
        "Warriors. If you are prompted to place a warrior, take it from your supply. If one of your warriors is removed, return it to your supply. (The Vagabond pawn is not a warrior and cannot be removed.) {tokenizer.sep_token}\n",
        "Buildings. If you are prompted to place a building, take the leftmost building from its track on your faction board. If one of your buildings is removed, return it to the rightmost empty space of its track. {tokenizer.sep_token}\n",
        "Tokens. If you are prompted to place a token, take the leftmost token from its track, if any, or take it from your supply. If one of your tokens is removed, return it to the rightmost empty space of its track, if any, or to your supply. {tokenizer.sep_token}\n",
        "Items. If you are prompted to take an item, take it from the shared supply on the map and place it in the Crafted Items box on your faction board. If you are prompted to remove an item, remove it from the game permanently. {tokenizer.sep_token}\n",
        "Other. If you are prompted to use any other piece (pawn, marker, etc.), follow its explicit instructions. {tokenizer.sep_token}\n",
        "Play Area {tokenizer.sep_token}\n",
        "Your play area is the area around your faction board. Cards in your play area can only be spent, discarded, or used for other purposes if explicitly instructed. {tokenizer.sep_token}\n",
        "Enemy {tokenizer.sep_token}\n",
        "An enemy is any other player who you are not in a coalition with (9.2.8). {tokenizer.sep_token}\n",
        "Ruler {tokenizer.sep_token}\n",
        "The ruler of a clearing is the player with the most total warriors and buildings in that clearing. (Tokens and pawns do not contribute to rule.) If there is a tie between players in a clearing, no one there is the ruler.\n",
        "\"\"\"\n",
        "\n",
        "context_ids = tokenizer.encode(context, return_tensors=\"pt\")\n",
        "context_embeddings = model.bert.embeddings.word_embeddings(context_ids) # These are raw embeddings for the context.\n",
        "context_length = len(context_embeddings[0])\n",
        "\n",
        "question_list = [\"What kinds of cards are there ?\", \"How many suits are there ?\", \"What are the names of the suits ?\", \n",
        "                 \"What is the play area ?\", \"What do you do when you reveal a card ?\", \"Are rivers treated as paths ?\", \"What are forests adjacent to ?\", \n",
        "                 \"Can I show cards in my hand ?\", \"What does cannot mean ?\", \"What are paths adjacent to ?\", \"What happens if the deck is empty ?\", \n",
        "                 \"What information is private ?\", \"What is the map of the Woodland made of ?\", \"What are enemies ?\", \"What is a ruler ?\",\n",
        "                 \"What do I do when I spend a card ?\", \"What can I spend a dominance card for ?\", \"What are ambush cards used for ?\",\n",
        "                 \"Can players make agreements ?\", \"When do certain rules take precedence ?\", \"What happens if effects are simultaneous ?\",\n",
        "                 \"What happens if two things happen at the same time ?\", \"What are bird cards used for ?\", \"How are ruins removed ?\"] # INPUT QUESTION HERE\n",
        "attention = Attention(attention_size)\n",
        "\n",
        "#FIND MAXIMUM DISCRIMINATORS\n",
        "start_time = time.perf_counter()\n",
        "max_discriminator_embedding_list, max_discriminator_token_list = find_max_discriminator(question_list,context)\n",
        "end_time = time.perf_counter()\n",
        "print(f\"Time taken: {end_time-start_time} s\")\n",
        "\n",
        "#FIND MINIMUM DISCRIMINATORS\n",
        "#start_time = time.perf_counter()\n",
        "#min_discriminator_embedding_list, min_discriminator_token_list = find_min_discriminator(question_list,context)\n",
        "#end_time = time.perf_counter()\n",
        "#print(f\"Time taken: {end_time-start_time} s\")"
      ],
      "execution_count": null,
      "outputs": []
    },
    {
      "cell_type": "code",
      "metadata": {
        "id": "TqE2KMi3d4gM"
      },
      "source": [
        "#In a Louisiana assisted-living home in 1999, Paul Edgecomb begins to cry while watching the film Top Hat. His companion Elaine becomes concerned, and Paul explains to her that the film reminded him of the events of 1935, which took place when he was a prison officer, in charge of death row, what they refer to as the 'Green Mile'. {tokenizer.sep_token}\n",
        "#John begins to demonstrate supernatural powers; he cures Paul's bladder infection, resurrects Mr. Jingles, and heals Melinda Moores, wife of the prison's chief warden, of a brain tumor. This last affliction he releases into Percy, who under its influence shoots another prisoner, mass murderer William Wharton, dead. Wharton had from the moment of his arrival been a troublemaker; he assaulted the guards as he was being escorted into the block, made mischief on two occasions that later caused Paul to order him restrained in the block's padded cell, groped Percy, racially insulted John, and revealed psychically to John that he is, in fact, responsible for the crime for which John was condemned. John then reveals the story psychically to Paul, and, when doing so, he also releases his supernatural energy into Paul. Meanwhile, Percy is committed to the insane asylum. {tokenizer.sep_token}\n",
        "#Although distraught over the notion of being executed while innocent, John tells Paul that he does, in fact, wish to die, as he views the world as a cruel place. Mentioning that he had never seen a movie before, John watches Top Hat with the other guards as a last request. John is executed that night but refuses the customary hood, as he is afraid of the dark. Paul concludes his story by telling Elaine that John's was the last execution that he and Brutus supervised; following Coffey's execution, they both took jobs in the juvenile system. {tokenizer.sep_token}\n",
        "#Elaine realizes that, since he had a grown son in 1935, Paul must be much older than he looks. Paul reveals that he is, in fact, 108 years of age. Not only is he still alive, so is Del's mouse, Mr. Jingles. Paul then muses that if John's power could make a mouse live for as long as Mr. Jingles has, how much longer does he himself have left? {tokenizer.sep_token}\n",
        "#Roger Ebert gave the film 3 and a half stars out of 4, writing 'The film is a shade over three hours long. I appreciated the extra time, which allows us to feel the passage of prison months and years.'[8] Forbes commentator Dawn Mendez referred to the character of John Coffey as a 'magic Negro' figure—a term describing a stereotypical fictional black person depicted in a fictional work as a 'saintly, nonthreatening' person whose purpose in life is to solve a problem for or otherwise further the happiness of a white person.[9] {tokenizer.sep_token}\n",
        "context = f\"\"\"The Green Mile (film) {tokenizer.sep_token}\n",
        "The Green Mile is a 1999 American fantasy crime drama film written and directed by Frank Darabont and adapted from the 1996 Stephen King serial novel of the same name. {tokenizer.sep_token}\n",
        "The film stars Tom Hanks as Paul Edgecomb and Michael Clarke Duncan as John Coffey, with supporting roles by David Morse, Bonnie Hunt, and James Cromwell. {tokenizer.sep_token}\n",
        "The film also features Dabbs Greer in his final film, as the older Paul Edgecomb. {tokenizer.sep_token}\n",
        "The film, told in a flashback format, tells the story of Paul's life as a death row corrections officer during the U.S. Great Depression, and the supernatural events he witnessed. {tokenizer.sep_token}\n",
        "The film was nominated for four Academy Awards: Best Picture, Best Supporting Actor for Michael Clarke Duncan, Best Sound Mixing, and Best Adapted Screenplay. {tokenizer.sep_token}\n",
        "Plot {tokenizer.sep_token}\n",
        "In a Louisiana assisted-living home in 1999, Paul Edgecomb begins to cry while watching the film Top Hat. {tokenizer.sep_token}\n",
        "His companion Elaine becomes concerned, and Paul explains to her that the film reminded him of the events of 1935, which took place when he was a prison officer, in charge of death row, what they refer to as the 'Green Mile'. {tokenizer.sep_token}\n",
        "In 1935, Paul supervises officers Brutus Howell, Dean Stanton, Harry Terwilliger, and Percy Wetmore at Cold Mountain Penitentiary. {tokenizer.sep_token} \n",
        "Paul is suffering from a severe bladder infection and receives John Coffey, a physically imposing but mentally challenged black man, into his custody. {tokenizer.sep_token} \n",
        "John had been sentenced to death after being convicted of raping and murdering two white girls. {tokenizer.sep_token} \n",
        "One of the other inmates is a Native-American named Arlen Bitterbuck, who is charged with murder and is the first to be executed. {tokenizer.sep_token} \n",
        "Percy demonstrates a severe sadistic streak, but, as the nephew of Louisiana's First Lady, he is beyond reproach. {tokenizer.sep_token} \n",
        "He is particularly abusive with inmate Eduard Delacroix; he breaks Del's fingers with his baton, steps on a pet mouse named Mr. Jingles, which Del had adopted, repeatedly calls him by a gay slur, and ultimately sabotages his execution by failing to soak the sponge used to conduct electricity to Del's head; Del dies screaming in pain. {tokenizer.sep_token}\n",
        "Cast {tokenizer.sep_token}\n",
        "Tom Hanks as Paul Edgecomb {tokenizer.sep_token}\n",
        "Dabbs Greer as old Paul Edgecomb {tokenizer.sep_token}\n",
        "David Morse as Brutus 'Brutal' Howell {tokenizer.sep_token}\n",
        "Bonnie Hunt as Jan Edgecomb {tokenizer.sep_token}\n",
        "Michael Clarke Duncan as John Coffey {tokenizer.sep_token}\n",
        "James Cromwell as Hal Moores {tokenizer.sep_token}\n",
        "Michael Jeter as Eduard 'Del' Delacroix {tokenizer.sep_token}\n",
        "Doug Hutchison as Percy Wetmore {tokenizer.sep_token}\n",
        "Sam Rockwell as William 'Wild Bill' Wharton {tokenizer.sep_token}\n",
        "Jeffrey DeMunn as Harry Terwilliger {tokenizer.sep_token}\n",
        "Barry Pepper as Dean Stanton {tokenizer.sep_token}\n",
        "Patricia Clarkson as Melinda Moores {tokenizer.sep_token}\n",
        "Brent Briscoe as Bill Dodge {tokenizer.sep_token}\n",
        "Harry Dean Stanton as Toot-Toot {tokenizer.sep_token}\n",
        "Gary Sinise as Burt Hammersmith {tokenizer.sep_token}\n",
        "Graham Greene as Arlen Bitterbuck {tokenizer.sep_token}\n",
        "William Sadler as Klaus Detterick {tokenizer.sep_token}\n",
        "Bill McKinney as Jack Van Hay {tokenizer.sep_token}\n",
        "Jon Polito as 'D' Block Prison Guard {tokenizer.sep_token}\n",
        "Eve Brent as Elaine Connelly {tokenizer.sep_token}\n",
        "Paula Malcomson as Marjorie Detterick {tokenizer.sep_token}\n",
        "Production {tokenizer.sep_token}\n",
        "Darabont adapted the novel into a screenplay in under eight weeks.[3] {tokenizer.sep_token}\n",
        "The film was shot at Warner Hollywood Studios, West Hollywood, California, and on location in Shelbyville, Tennessee and Blowing Rock, North Carolina.[4] {tokenizer.sep_token}\n",
        "Casting {tokenizer.sep_token}\n",
        "Hanks and Darabont met at an Academy Award luncheon in 1994. {tokenizer.sep_token} \n",
        "Stephen King stated he envisioned Hanks in the role and was happy when Darabont mentioned his name.[3] {tokenizer.sep_token}\n",
        "Morse had not heard about the script until he was offered the role. {tokenizer.sep_token} \n",
        "He stated he was in tears by the end of it.[3] {tokenizer.sep_token} \n",
        "Darabont wanted Cromwell from the start, and after he read the script, Cromwell was moved and agreed.[3] {tokenizer.sep_token}\n",
        "Duncan credited his casting to Bruce Willis, with whom he had worked on the film Armageddon one year earlier. {tokenizer.sep_token} \n",
        "According to Duncan, Willis introduced him to Darabont after hearing of the open call for John Coffey.[5] {tokenizer.sep_token}\n",
        "Soundtrack {tokenizer.sep_token}\n",
        "The official film soundtrack, Music from the Motion Picture The Green Mile, was released on December 19, 1999 by Warner Bros. {tokenizer.sep_token} \n",
        "It contains 37 tracks, primarily instrumental tracks from the film score by Thomas Newman. {tokenizer.sep_token} \n",
        "It also contains four vocal tracks: 'Cheek to Cheek' by Fred Astaire, 'I Can't Give You Anything but Love, Baby' by Billie Holiday, 'Did You Ever See a Dream Walking?' by Gene Austin, and 'Charmaine' by Guy Lombardo and His Royal Canadians. {tokenizer.sep_token}\n",
        "Reception {tokenizer.sep_token}\n",
        "Critical response {tokenizer.sep_token}\n",
        "Review aggregation website Rotten Tomatoes gives the film a score of 80%, based on 132 reviews. {tokenizer.sep_token} \n",
        "The critical consensus states 'Though The Green Mile is long, critics say it's an absorbing, emotionally powerful experience.'[6] {tokenizer.sep_token} \n",
        "The film also has a score of 61 out of 100 on Metacritic based on 36 critics indicating 'generally favorable reviews'.[7] {tokenizer.sep_token}\n",
        "Roger Ebert gave the film 3 and a half stars out of 4, writing 'The film is a shade over three hours long. I appreciated the extra time, which allows us to feel the passage of prison months and years.'[8] {tokenizer.sep_token} \n",
        "Forbes commentator Dawn Mendez referred to the character of John Coffey as a 'magic Negro' figure—a term describing a stereotypical fictional black person depicted in a fictional work as a 'saintly, nonthreatening' person whose purpose in life is to solve a problem for or otherwise further the happiness of a white person.[9] {tokenizer.sep_token}\n",
        "Awards and honors {tokenizer.sep_token}\n",
        "1999 Academy Awards[10][11] {tokenizer.sep_token}\n",
        "Nominated – Best Performance by an Actor in a Supporting Role – Michael Clarke Duncan {tokenizer.sep_token}\n",
        "Nominated – Best Picture – David Valdes, Frank Darabont {tokenizer.sep_token}\n",
        "Nominated – Best Sound Mixing – Robert J. Litt, Elliot Tyson, Michael Herbick, Willie D. Burton {tokenizer.sep_token}\n",
        "Nominated – Best Adapted Screenplay – Frank Darabont {tokenizer.sep_token}\n",
        "2000 Academy of Science Fiction, Fantasy & Horror Films {tokenizer.sep_token}\n",
        "Won – Best Supporting Actor – Michael Clarke Duncan {tokenizer.sep_token}\n",
        "Won – Best Supporting Actress – Patricia Clarkson {tokenizer.sep_token}\n",
        "Won – Best Action/Adventure/Thriller Film {tokenizer.sep_token}\n",
        "Nominated – Best Director – Frank Darabont {tokenizer.sep_token}\n",
        "Nominated – Best Music – Thomas Newman {tokenizer.sep_token}\n",
        "2000 Broadcast Music Incorporated Film & TV Awards {tokenizer.sep_token}\n",
        "Won – Film Music Award – Thomas Newman {tokenizer.sep_token}\n",
        "2000 Black Reel Awards {tokenizer.sep_token}\n",
        "Won – Theatrical – Best Supporting Actor – Michael Clarke Duncan {tokenizer.sep_token}\n",
        "2000 Blockbuster Entertainment Awards {tokenizer.sep_token}\n",
        "Won – Favorite Actor – Drama – Tom Hanks {tokenizer.sep_token}\n",
        "Nominated – Favorite Supporting Actor – Drama – Michael Clarke Duncan {tokenizer.sep_token}\n",
        "Nominated – Favorite Supporting Actress – Drama – Bonnie Hunt {tokenizer.sep_token}\n",
        "2000 Bram Stoker Awards {tokenizer.sep_token}\n",
        "Nominated – Best Screenplay – Frank Darabont {tokenizer.sep_token}\n",
        "2000 Broadcast Film Critics Association Awards {tokenizer.sep_token}\n",
        "Won – Best Screenplay, Adaptation – Frank Darabont {tokenizer.sep_token}\n",
        "Won – Best Supporting Actor – Michael Clarke Duncan {tokenizer.sep_token}\n",
        "Nominated – Best Film {tokenizer.sep_token}\n",
        "2000 Chicago Film Critics Association Awards {tokenizer.sep_token}\n",
        "Nominated – Best Supporting Actor – Michael Clarke Duncan {tokenizer.sep_token}\n",
        "Nominated – Most Promising Actor – Michael Clarke Duncan {tokenizer.sep_token}\n",
        "2000 Directors Guild of America {tokenizer.sep_token}\n",
        "Nominated – Outstanding Directorial Achievement in Motion Pictures – Frank Darabont {tokenizer.sep_token}\n",
        "2000 Golden Globe Awards {tokenizer.sep_token}\n",
        "Nominated – Best Supporting Actor – Motion Picture – Michael Clarke Duncan {tokenizer.sep_token}\n",
        "2000 NAACP Image Awards {tokenizer.sep_token}\n",
        "Nominated – Outstanding Supporting Actor in a Motion Picture – Michael Clarke Duncan {tokenizer.sep_token}\n",
        "2000 MTV Movie Awards {tokenizer.sep_token}\n",
        "Nominated – Best Breakthrough Male Performance – Michael Clarke Duncan {tokenizer.sep_token}\n",
        "2000 Motion Picture Sound Editors (Golden Reel Awards) {tokenizer.sep_token}\n",
        "Nominated – Best Sound Editing – Dialogue and ADR – Mark A. Mangini, Julia Evershade {tokenizer.sep_token}\n",
        "Nominated – Best Sound Editing – Effects and Foley – Mark A. Mangini, Aaron Glascock, Howell Gibbens, David E. Stone, Solange S. Schwalbe {tokenizer.sep_token}\n",
        "2000 People's Choice Awards {tokenizer.sep_token}\n",
        "Won – Favorite All-Around Motion Picture {tokenizer.sep_token}\n",
        "Won – Favorite Dramatic Motion Picture {tokenizer.sep_token}\n",
        "2001 Science Fiction and Fantasy Writers of America (Nebula Award) {tokenizer.sep_token}\n",
        "Nominated – Best Script – Frank Darabont {tokenizer.sep_token}\n",
        "2000 Screen Actors Guild Awards {tokenizer.sep_token}\n",
        "Nominated – Outstanding Performance by a Cast {tokenizer.sep_token}\n",
        "Nominated – Outstanding Performance by a Male Actor in a Supporting Role – Michael Clarke Duncan {tokenizer.sep_token}\n",
        "Others {tokenizer.sep_token}\n",
        "The film is recognized by American Film Institute in these lists: {tokenizer.sep_token}\n",
        "2006: AFI's 100 Years...100 Cheers – Nominated[12] {tokenizer.sep_token}\n",
        "References {tokenizer.sep_token}\n",
        "The Green Mile (1999). IMDb. Retrieved January 12, 2016. {tokenizer.sep_token}\n",
        "Box Office Information for The Green Mile. The Numbers. Retrieved September 12, 2012. {tokenizer.sep_token}\n",
        "About the Film. Retrieved November 1, 2011. {tokenizer.sep_token}\n",
        "Darabont, Frank (Director) (December 10, 1999). The Green Mile (Motion picture). United States: Warner Bros. {tokenizer.sep_token}\n",
        "Doty, Meriah (September 4, 2012). Bruce Willis helped Michael Clarke Duncan get his Oscar caliber role. Yahoo! Movies. {tokenizer.sep_token}\n",
        "The Green Mile. December 10, 1999. Retrieved September 22, 2014. {tokenizer.sep_token}\n",
        "The Green Mile. metacritic. December 10, 1999. Retrieved September 25, 2015. {tokenizer.sep_token}\n",
        "The Green Mile. Roger Ebert dot com. December 10, 1999. {tokenizer.sep_token}\n",
        "Mendez, Dawn (January 23, 2009). The 'Magic Negro'. Forbes. Retrieved October 26, 2009. {tokenizer.sep_token}\n",
        "The 72nd Academy Awards (2000) Nominees and Winners. oscars.org. Retrieved November 19, 2011. {tokenizer.sep_token}\n",
        "Lyman, Rick (March 28, 2000). Oscar Victory Finally Lifts the Cloud for DreamWorks. The New York Times. Retrieved November 4, 2011. {tokenizer.sep_token}\n",
        "AFI's 100 Years...100 Cheers Nominees (PDF). Retrieved August 14, 2016. {tokenizer.sep_token}\n",
        "External links {tokenizer.sep_token}\n",
        "The Green Mile on IMDb {tokenizer.sep_token}\n",
        "The Green Mile at the TCM Movie Database {tokenizer.sep_token}\n",
        "The Green Mile at AllMovie {tokenizer.sep_token}\n",
        "The Green Mile at Rotten Tomatoes {tokenizer.sep_token}\"\"\"\n",
        "\n",
        "context_ids = tokenizer.encode(context, return_tensors=\"pt\")\n",
        "context_embeddings = model.bert.embeddings.word_embeddings(context_ids) # These are raw embeddings for the context.\n",
        "context_length = len(context_embeddings[0])\n",
        "\n",
        "question_list = [\"what is the name of the prison in the green mile\", \"who was nominated for the best script at the Nebula Awards\"]\n",
        "\n",
        "#FIND MAXIMUM DISCRIMINATORS\n",
        "attention = Attention(attention_size)\n",
        "start_time = time.perf_counter()\n",
        "max_discriminator_embedding_list, max_discriminator_token_list = find_max_discriminator(question_list,context)\n",
        "end_time = time.perf_counter()\n",
        "print(f\"Time taken: {end_time-start_time} s\")\n",
        "\n",
        "#FIND MINIMUM DISCRIMINATORS\n",
        "#start_time = time.perf_counter()\n",
        "#min_discriminator_embedding_list, min_discriminator_token_list = find_min_discriminator(question_list,context)\n",
        "#end_time = time.perf_counter()\n",
        "#print(f\"Time taken: {end_time-start_time} s\")"
      ],
      "execution_count": null,
      "outputs": []
    },
    {
      "cell_type": "code",
      "metadata": {
        "id": "BFzH1T-A_6g6",
        "colab": {
          "base_uri": "https://localhost:8080/",
          "height": 590
        },
        "outputId": "027c4954-542a-4f89-bf0b-e7613f695c8c"
      },
      "source": [
        "#CHOOSE MAX FROM LIST AND PLOT\n",
        "\n",
        "discriminator = 0 # Choose which question to plot the maximum discriminator from\n",
        "max_discriminator_embedding = max_discriminator_embedding_list[discriminator]\n",
        "output, weights = attention(max_discriminator_embedding, context_embeddings)\n",
        "y = weights[0][0].tolist()\n",
        "print(max(y) - find_max_mode(y))\n",
        "#y_normalization = (sum (y) / len (y)) # Normalizing in order to add up attentions over words? Seems to always be 0.000745712?\n",
        "#y = [rectified(idx - (2*0.000745712)) for idx in y] # We're normalizing to twice the mean in case we want to add up the attention scores across words \n",
        "x = list(range(len(context_ids[0]))) # Set x axis to length of context\n",
        "\n",
        "plt.plot(x, y) # add 'bo' to make into bubbles\n",
        "plt.xlabel(\"Token Number in Document\")\n",
        "plt.ylabel(\"Attention Weight\")\n",
        "plt.title(f\"Discriminator Attention for {max_discriminator_token_list[discriminator]}\")\n",
        "plt.autoscale()\n",
        "plt.show()\n",
        "\n",
        "plt.hist(y, bins=30) # 30 bins is arbitrary\n",
        "plt.title(f\"Weights Distribution for {max_discriminator_token_list[discriminator]}\")\n",
        "plt.xlabel(\"Attention Weight\")\n",
        "plt.ylabel(\"Number of Tokens\")\n",
        "plt.autoscale()\n",
        "plt.show()"
      ],
      "execution_count": null,
      "outputs": [
        {
          "output_type": "stream",
          "text": [
            "0.0018317553331144154\n"
          ],
          "name": "stdout"
        },
        {
          "output_type": "display_data",
          "data": {
            "image/png": "[encoded data removed]",
            "text/plain": [
              "<Figure size 432x288 with 1 Axes>"
            ]
          },
          "metadata": {
            "tags": [],
            "needs_background": "light"
          }
        },
        {
          "output_type": "display_data",
          "data": {
            "image/png": "[encoded data removed]",
            "text/plain": [
              "<Figure size 432x288 with 1 Axes>"
            ]
          },
          "metadata": {
            "tags": [],
            "needs_background": "light"
          }
        }
      ]
    },
    {
      "cell_type": "code",
      "metadata": {
        "id": "neRHsb69VDM3",
        "colab": {
          "base_uri": "https://localhost:8080/",
          "height": 678
        },
        "outputId": "4adc764c-2d46-4bea-e1d6-56113318c03b"
      },
      "source": [
        "print(question_list)\n",
        "\n",
        "#EXTRACT TOKEN ATTENTIONS FOR A GIVEN QUESTION\n",
        "which_question = 2\n",
        "all_embedding_list, all_token_list = find_token_attentions(question_list,context,which_question)\n",
        "\n",
        "#SELECT SPECIFIC TOKEN AS DISCRIMINATOR\n",
        "print(all_token_list)\n",
        "discriminator = 7 # Choose which token in the list to plot\n",
        "discriminator_embedding = all_embedding_list[discriminator]\n",
        "output, weights = attention(discriminator_embedding, context_embeddings)\n",
        "y = weights[0][0].tolist()\n",
        "discriminator_strength = max(y) - find_max_mode(y)\n",
        "print(discriminator_strength)\n",
        "three_fourths_difference = (3/4)*discriminator_strength\n",
        "print(three_fourths_difference)\n",
        "word_count = len([i for i in y if i > three_fourths_difference]) # Count number of words above threshold of 3/4 range\n",
        "print(word_count)\n",
        "#y_normalization = (sum (y) / len (y)) # Normalizing in order to add up attentions over words? Seems to always be 0.000745712?\n",
        "#y = [rectified(idx - (2*0.000745712)) for idx in y] # Noramlize to twice the mean in case we want to add up the attention scores across words \n",
        "x = list(range(len(context_ids[0]))) # Set x axis to length of context\n",
        "\n",
        "plt.plot(x, y) # add 'bo' to make into bubbles\n",
        "plt.xlabel(\"Token Number in Document\")\n",
        "plt.ylabel(\"Attention Weight\")\n",
        "plt.title(f\"Discriminator Attention for {all_token_list[discriminator]}\")\n",
        "plt.autoscale()\n",
        "plt.show()\n",
        "\n",
        "plt.hist(y, bins=100) # 30 bins is arbitrary\n",
        "plt.title(f\"Weights Distribution for {all_token_list[discriminator]}\")\n",
        "plt.xlabel(\"Attention Weight\")\n",
        "plt.ylabel(\"Number of Tokens\")\n",
        "plt.autoscale()\n",
        "plt.show()"
      ],
      "execution_count": null,
      "outputs": [
        {
          "output_type": "stream",
          "text": [
            "['What kinds of cards are there ?', 'How many suits are there ?', 'What are the names of the suits ?', 'What is the play area ?', 'What do you do when you reveal a card ?', 'Are rivers treated as paths ?', 'What are forests adjacent to ?', 'Can I show cards in my hand ?', 'What does cannot mean ?', 'What are paths adjacent to ?', 'What happens if the deck is empty ?', 'What information is private ?', 'What is the map of the Woodland made of ?', 'What are enemies ?', 'What is a ruler ?', 'What do I do when I spend a card ?', 'What can I spend a dominance card for ?', 'What are ambush cards used for ?', 'Can players make agreements ?', 'When do certain rules take precedence ?', 'What happens if effects are simultaneous ?', 'What happens if two things happen at the same time ?', 'What are bird cards used for ?', 'How are ruins removed ?']\n",
            "['[CLS]', 'what', 'are', 'the', 'names', 'of', 'the', 'suits', '?', '[SEP]']\n",
            "0.0027174546266905963\n",
            "0.0020380909700179473\n",
            "1\n"
          ],
          "name": "stdout"
        },
        {
          "output_type": "display_data",
          "data": {
            "image/png": "[encoded data removed]",
            "text/plain": [
              "<Figure size 432x288 with 1 Axes>"
            ]
          },
          "metadata": {
            "tags": [],
            "needs_background": "light"
          }
        },
        {
          "output_type": "display_data",
          "data": {
            "image/png": "[encoded data removed]",
            "text/plain": [
              "<Figure size 432x288 with 1 Axes>"
            ]
          },
          "metadata": {
            "tags": [],
            "needs_background": "light"
          }
        }
      ]
    },
    {
      "cell_type": "code",
      "metadata": {
        "id": "yCB6WV8kt80I"
      },
      "source": [
        "#CREATE WEIGHTED AVERAGE OF EMBEDDINGS BASED ON DISCRIMINATOR STRENGTH\n",
        "embedding_length = len(all_embedding_list) - 2 # IGNORE CLS AND SEP\n",
        "total_discriminator_value = 0.0\n",
        "current_discriminator_value_list = []\n",
        "discriminator_weight_list = []\n",
        "weighted_embedding_list = all_embedding_list[1:(embedding_length+1)] # initialize for later weighting\n",
        "for idx in range (1,embedding_length+1): # IGNORE CLS and SEP\n",
        "  discriminator_embedding = all_embedding_list[idx]\n",
        "  #print(discriminator_embedding[0][0][0:4])\n",
        "  #print(all_token_list[idx])\n",
        "  output, weights = attention(discriminator_embedding, context_embeddings)\n",
        "  y = weights[0][0].tolist()\n",
        "  current_discriminator_value = max(y) - find_max_mode(y)\n",
        "  total_discriminator_value += current_discriminator_value\n",
        "  #print(f\"Current: {current_discriminator_value}\")\n",
        "  current_discriminator_value_list.append(current_discriminator_value)\n",
        "  #print(f\"Appended: {current_discriminator_value_list[idx-1]}\")\n",
        "  #print(f\"Total: {total_discriminator_value}\")\n",
        "  #print(\" \")\n",
        "\n",
        "for idx in range(len(current_discriminator_value_list)):  \n",
        "  discriminator_weight_list.append(current_discriminator_value_list[idx] / total_discriminator_value)\n",
        "  #print(f\"Weight: {discriminator_weight_list[idx]}\")\n",
        "  #SOFTMAX INSTEAD?\n",
        "\n",
        "discriminator_weight_list_tensor = torch.tensor(discriminator_weight_list)\n",
        "#print(discriminator_weight_list_tensor)\n",
        "#print(all_embedding_list[1][0][0][0:4])\n",
        "#weighted_embedding_list = torch.mul(all_embedding_list[1][0][0], discriminator_weight_list_tensor[0])\n",
        "#print(weighted_embedding_list[0:4])\n",
        "for idx in range(1,embedding_length+1): # IGNORE CLS and SEP\n",
        "#  print(all_embedding_list[idx][0][0][0:4])\n",
        "  weighted_embedding_list[idx-1] = torch.mul(all_embedding_list[idx][0][0], discriminator_weight_list_tensor[idx-1])\n",
        "  #print(weighted_embedding_list[idx-1][0:4])\n",
        "#  print(weighted_embedding_list[idx][0][0])\n",
        "#  print(weighted_embedding_list[idx])\n",
        "\n",
        "#for idx in range(1): #,embedding_length-1):\n",
        "#print(all_embedding_list[0])\n",
        "#print(discriminator_weight_list[0])\n",
        "#weighted_embedding_list[idx] = torch.multiply(all_embedding_list[idx],discriminator_weight_list[idx-1])\n",
        "#print(all_embedding_list[idx])\n",
        "#final_embedding = \n",
        "\n",
        "# THERE'S A BUG IN HERE SOMEWHERE. IT CAN'T BE RUN TWICE."
      ],
      "execution_count": null,
      "outputs": []
    },
    {
      "cell_type": "code",
      "metadata": {
        "id": "uKqbkOWBLSJ0",
        "colab": {
          "base_uri": "https://localhost:8080/"
        },
        "outputId": "5e44e9eb-e625-40bf-e230-babc695fd8b4"
      },
      "source": [
        "#print(weighted_embedding_list[3][0:4])\n",
        "print(len(weighted_embedding_list))\n",
        "final_embedding = torch.sum(torch.stack([weighted_embedding_list[0],weighted_embedding_list[1],weighted_embedding_list[2],weighted_embedding_list[3]]), dim=0).unsqueeze(0).unsqueeze(0)\n",
        "# NEED TO MAKE THIS VARIABLE WITH Q LENGTH\n",
        "#print(final_embedding)\n",
        "#print(final_embedding.size())"
      ],
      "execution_count": null,
      "outputs": [
        {
          "output_type": "stream",
          "text": [
            "4\n"
          ],
          "name": "stdout"
        }
      ]
    },
    {
      "cell_type": "code",
      "metadata": {
        "id": "MzS6eZWBT_C0",
        "colab": {
          "base_uri": "https://localhost:8080/",
          "height": 573
        },
        "outputId": "c031491d-0c89-45d7-d1f7-b886370c4c16"
      },
      "source": [
        "## MIXED EMBEDDING PLOT\n",
        "discriminator = 0 # Always zero in this case\n",
        "output, weights = attention(final_embedding, context_embeddings)\n",
        "y = weights[0][0].tolist()\n",
        "x = list(range(len(context_ids[0]))) # Set x axis to length of context\n",
        "\n",
        "plt.plot(x, y) # add 'bo' to make into bubbles\n",
        "plt.xlabel(\"Token Number in Document\")\n",
        "plt.ylabel(\"Attention Weight\")\n",
        "plt.title(f\"Discriminator Attention for Mixed Embedding\")\n",
        "plt.autoscale()\n",
        "plt.show()\n",
        "\n",
        "plt.hist(y, bins=30) # 30 bins is arbitrary\n",
        "plt.title(f\"Weights Distribution for Mixed Embedding\")\n",
        "plt.xlabel(\"Attention Weight\")\n",
        "plt.ylabel(\"Number of Tokens\")\n",
        "plt.autoscale()\n",
        "plt.show()"
      ],
      "execution_count": null,
      "outputs": [
        {
          "output_type": "display_data",
          "data": {
            "image/png": "[encoded data removed]",
            "text/plain": [
              "<Figure size 432x288 with 1 Axes>"
            ]
          },
          "metadata": {
            "tags": [],
            "needs_background": "light"
          }
        },
        {
          "output_type": "display_data",
          "data": {
            "image/png": "[encoded data removed]",
            "text/plain": [
              "<Figure size 432x288 with 1 Axes>"
            ]
          },
          "metadata": {
            "tags": [],
            "needs_background": "light"
          }
        }
      ]
    },
    {
      "cell_type": "code",
      "metadata": {
        "id": "smPoX3twXGq6",
        "colab": {
          "base_uri": "https://localhost:8080/"
        },
        "outputId": "6aba6b46-69c4-4637-9a1c-0835430c5a30"
      },
      "source": [
        "context_tokens = tokenizer.convert_ids_to_tokens(context_ids[0])\n",
        "print(context_tokens)"
      ],
      "execution_count": null,
      "outputs": [
        {
          "output_type": "stream",
          "text": [
            "['[CLS]', 'rules', 'conflicts', '[SEP]', 'precedence', '.', 'if', 'a', 'card', 'conflicts', 'with', 'the', 'law', ',', 'follow', 'the', 'card', '.', 'if', 'the', 'learning', 'to', 'play', 'guide', 'conflicts', 'with', 'the', 'law', ',', 'follow', 'the', 'law', '.', 'if', 'you', 'can', 'follow', 'both', 'a', 'general', 'rule', 'and', 'a', 'faction', 'rule', ',', 'follow', 'both', ';', 'if', 'you', 'cannot', ',', 'follow', 'the', 'faction', 'rule', '.', '[SEP]', 'use', 'of', 'cannot', '.', 'the', 'term', 'cannot', 'is', 'absolute', '.', 'it', 'cannot', 'be', 'over', '##rid', '##den', 'unless', 'explicitly', 'instructed', '.', '[SEP]', 'simultaneous', 'effects', '.', 'if', 'two', 'game', 'effects', 'occur', 'simultaneously', ',', 'the', 'player', 'taking', 'the', 'current', 'turn', 'chooses', 'their', 'order', ',', 'unless', 'explicitly', 'instructed', '.', '[SEP]', 'use', 'of', 'treat', '.', 'if', 'you', 'are', 'prompted', 'to', 'treat', 'one', 'thing', 'as', 'another', ',', 'the', 'former', 'takes', 'on', 'all', 'the', 'properties', 'of', 'the', 'latter', '.', '(', 'for', 'example', ',', 'if', 'you', 'caused', 'outrage', 'while', 'treating', 'yourself', 'as', 'another', 'player', ',', 'the', 'other', 'player', 'would', 'give', 'the', 'card', '.', ')', '[SEP]', 'public', 'and', 'private', 'information', '[SEP]', 'hands', '.', 'players', 'may', 'only', 'show', 'or', 'reveal', 'cards', 'in', 'their', 'hand', 'if', 'explicitly', 'instructed', ',', 'but', 'the', 'number', 'of', 'cards', 'in', 'their', 'hand', 'is', 'public', 'information', '.', '[SEP]', 'disc', '##ard', '.', 'the', 'disc', '##ard', 'pile', 'can', 'be', 'searched', 'and', 'inspected', 'at', 'any', 'time', '.', '[SEP]', 'negotiation', 'and', 'deals', '[SEP]', 'agreements', '.', 'players', 'may', 'discuss', 'the', 'game', 'and', 'make', 'agreements', ',', 'but', 'they', 'are', 'non', '-', 'binding', '.', '[SEP]', 'cards', '.', 'players', 'may', 'only', 'give', 'cards', 'to', 'each', 'other', 'if', 'explicitly', 'instructed', '.', '[SEP]', 'players', 'and', 'factions', '[SEP]', 'for', 'simplicity', ',', 'the', 'law', 'refers', 'to', 'players', ',', 'not', 'factions', '.', 'however', ',', 'game', 'effects', '(', 'such', 'as', 'abilities', 'and', 'persistent', 'effects', ')', 'are', 'properties', 'of', 'factions', ',', 'not', 'players', '.', 'while', 'controlling', 'pieces', 'of', 'a', 'faction', 'they', 'do', 'not', 'own', ',', 'a', 'player', 'follows', 'the', 'rules', 'of', 'that', 'faction', 'unless', 'explicitly', 'instructed', '.', '[SEP]', 'game', 'structure', '[SEP]', 'each', 'player', '’', 's', 'turn', 'has', 'three', 'phases', ':', 'birds', '##ong', ',', 'daylight', ',', 'and', 'evening', '.', 'after', 'a', 'player', 'completes', 'all', 'three', 'phases', ',', 'the', 'next', 'clockwise', 'player', 'begins', 'their', 'turn', '.', 'play', 'continues', 'until', 'one', 'player', 'has', 'won', 'the', 'game', '(', '3', '.', '1', ')', '.', '[SEP]', 'key', 'terms', 'and', 'concepts', '[SEP]', 'cards', '[SEP]', 'each', 'card', 'has', 'a', 'suit', ':', 'bird', ',', 'fox', ',', 'rabbit', ',', 'or', 'mouse', '.', 'most', 'cards', 'also', 'have', 'an', 'effect', 'you', 'can', 'craft', '(', '4', '.', '1', ')', '.', '[SEP]', 'birds', 'are', 'wild', '.', 'you', 'can', 'treat', 'any', 'bird', 'card', 'as', 'a', 'card', 'of', 'another', 'suit', ',', 'even', 'if', 'you', 'must', 'spend', ',', 'take', ',', 'or', 'give', 'multiple', 'cards', 'of', 'the', 'same', 'suit', '.', '[SEP]', 'forced', 'effects', '.', 'if', 'you', 'are', 'prompted', 'to', 'disc', '##ard', 'or', 'give', 'a', 'fox', ',', 'rabbit', ',', 'or', 'mouse', 'card', ',', 'you', 'must', 'treat', 'your', 'bird', 'cards', 'as', 'the', 'prompted', 'suit', '.', '[SEP]', 'reverse', 'substitution', '.', 'if', 'you', 'are', 'prompted', 'to', 'spend', ',', 'disc', '##ard', ',', 'take', ',', 'or', 'give', 'a', 'bird', 'card', ',', 'you', 'cannot', 'substitute', 'a', 'card', 'of', 'another', 'suit', '.', '[SEP]', 'drawing', 'cards', '.', 'whenever', 'you', 'are', 'prompted', 'to', 'draw', 'a', 'card', ',', 'take', 'it', 'from', 'the', 'shared', 'deck', '.', 'if', 'the', 'deck', 'is', 'ever', 'empty', ',', 'shuffle', 'the', 'disc', '##ard', 'pile', 'immediately', 'to', 'form', 'a', 'new', 'deck', '.', '[SEP]', 'spending', 'and', 'disc', '##arding', 'cards', '.', 'whenever', 'you', 'are', 'prompted', 'to', 'disc', '##ard', 'or', 'spend', 'a', 'card', ',', 'place', 'it', 'in', 'the', 'shared', 'disc', '##ard', 'pile', 'unless', 'it', 'is', 'a', 'dominance', 'card', '(', '3', '.', '3', ')', '.', '[SEP]', 'revealing', 'cards', '.', 'whenever', 'you', 'are', 'prompted', 'to', 'reveal', 'a', 'card', ',', 'place', 'it', 'in', 'your', 'play', 'area', '(', '2', '.', '6', ')', '.', '[SEP]', 'ambush', 'cards', '.', 'there', 'are', 'five', 'ambush', 'cards', ':', 'one', 'mouse', ',', 'one', 'rabbit', ',', 'one', 'fox', ',', 'and', 'two', 'birds', '.', 'you', 'may', 'spend', 'an', 'ambush', 'card', 'for', 'its', 'suit', ',', 'but', 'it', 'does', 'not', 'have', 'a', 'crafted', 'effect', '.', 'you', 'may', 'also', 'play', 'one', 'in', 'battle', 'to', 'deal', 'hits', '(', '4', '.', '3', '.', '1', ')', '.', '[SEP]', 'dominance', 'cards', '.', 'there', 'are', 'four', 'dominance', 'cards', 'matching', 'the', 'four', 'suits', '.', 'you', 'may', 'spend', 'a', 'dominance', 'card', 'for', 'its', 'suit', ',', 'but', 'it', 'cannot', 'be', 'crafted', '.', 'you', 'may', 'also', 'play', 'one', 'to', 'permanently', 'change', 'your', 'victory', 'condition', '(', '3', '.', '3', ')', '.', '[SEP]', 'clearing', '##s', 'and', 'paths', '[SEP]', 'the', 'map', 'of', 'the', 'woodland', 'is', 'composed', 'of', 'many', 'clearing', '##s', 'linked', 'by', 'paths', '.', '[SEP]', 'ad', '##ja', '##cen', '##cy', '.', 'a', 'clearing', 'is', 'adjacent', 'to', 'all', 'other', 'clearing', '##s', 'linked', 'to', 'it', 'by', 'a', 'path', '.', '[SEP]', 'suit', '.', 'each', 'clearing', 'has', 'a', 'suit', ':', 'mouse', ',', 'rabbit', ',', 'or', 'fox', '.', '[SEP]', 'slots', '.', 'each', 'clearing', 'has', 'a', 'number', 'of', 'slots', '(', 'white', 'boxes', ')', '.', 'whenever', 'you', 'place', 'a', 'building', ',', 'it', 'fills', 'an', 'open', 'slot', '.', 'you', 'cannot', 'place', 'a', 'building', 'in', 'a', 'clearing', 'with', 'no', 'open', 'slots', '.', '[SEP]', 'ruins', '.', 'slots', 'marked', 'with', 'a', 'small', '“', 'r', '”', 'begin', 'the', 'game', 'filled', 'with', 'ruins', '.', 'ruins', 'can', 'only', 'be', 'removed', 'by', 'the', 'va', '##ga', '##bon', '##d', '’', 's', 'explore', 'action', '(', '9', '.', '5', '.', '3', ')', '.', '[SEP]', 'rivers', '[SEP]', 'many', 'clearing', '##s', 'are', 'linked', 'by', 'rivers', '.', 'by', 'default', 'rivers', 'are', 'not', 'paths', ',', 'but', 'can', 'be', 'treated', 'as', 'paths', 'if', 'explicitly', 'instructed', '.', 'rivers', 'do', 'not', 'divide', 'clearing', '##s', 'or', 'forests', '.', '[SEP]', 'forests', '[SEP]', 'areas', 'on', 'the', 'map', 'enclosed', 'by', 'paths', 'and', 'clearing', '##s', 'are', 'called', 'forests', '.', '[SEP]', 'ad', '##ja', '##cen', '##cy', '.', 'a', 'forest', 'is', 'adjacent', 'to', 'all', 'clearing', '##s', 'that', 'touch', 'it', 'without', 'crossing', 'a', 'path', ',', 'and', 'it', 'is', 'adjacent', 'to', 'all', 'forests', 'that', 'are', 'separated', 'by', 'only', 'one', 'path', '.', '[SEP]', 'pieces', '[SEP]', 'each', 'faction', 'has', 'a', 'set', 'of', 'pieces', 'listed', 'on', 'the', 'back', 'of', 'its', 'faction', 'board', '.', 'pieces', 'are', 'limited', 'by', 'the', 'contents', 'of', 'the', 'game', '.', 'if', 'you', 'are', 'prompted', 'to', 'place', ',', 'take', ',', 'or', 'remove', 'any', 'number', 'of', 'pieces', 'but', 'you', 'cannot', ',', 'you', 'must', 'place', ',', 'take', ',', 'or', 'remove', 'the', 'maximum', 'number', 'possible', '.', '[SEP]', 'warriors', '.', 'if', 'you', 'are', 'prompted', 'to', 'place', 'a', 'warrior', ',', 'take', 'it', 'from', 'your', 'supply', '.', 'if', 'one', 'of', 'your', 'warriors', 'is', 'removed', ',', 'return', 'it', 'to', 'your', 'supply', '.', '(', 'the', 'va', '##ga', '##bon', '##d', 'pawn', 'is', 'not', 'a', 'warrior', 'and', 'cannot', 'be', 'removed', '.', ')', '[SEP]', 'buildings', '.', 'if', 'you', 'are', 'prompted', 'to', 'place', 'a', 'building', ',', 'take', 'the', 'left', '##most', 'building', 'from', 'its', 'track', 'on', 'your', 'faction', 'board', '.', 'if', 'one', 'of', 'your', 'buildings', 'is', 'removed', ',', 'return', 'it', 'to', 'the', 'right', '##most', 'empty', 'space', 'of', 'its', 'track', '.', '[SEP]', 'token', '##s', '.', 'if', 'you', 'are', 'prompted', 'to', 'place', 'a', 'token', ',', 'take', 'the', 'left', '##most', 'token', 'from', 'its', 'track', ',', 'if', 'any', ',', 'or', 'take', 'it', 'from', 'your', 'supply', '.', 'if', 'one', 'of', 'your', 'token', '##s', 'is', 'removed', ',', 'return', 'it', 'to', 'the', 'right', '##most', 'empty', 'space', 'of', 'its', 'track', ',', 'if', 'any', ',', 'or', 'to', 'your', 'supply', '.', '[SEP]', 'items', '.', 'if', 'you', 'are', 'prompted', 'to', 'take', 'an', 'item', ',', 'take', 'it', 'from', 'the', 'shared', 'supply', 'on', 'the', 'map', 'and', 'place', 'it', 'in', 'the', 'crafted', 'items', 'box', 'on', 'your', 'faction', 'board', '.', 'if', 'you', 'are', 'prompted', 'to', 'remove', 'an', 'item', ',', 'remove', 'it', 'from', 'the', 'game', 'permanently', '.', '[SEP]', 'other', '.', 'if', 'you', 'are', 'prompted', 'to', 'use', 'any', 'other', 'piece', '(', 'pawn', ',', 'marker', ',', 'etc', '.', ')', ',', 'follow', 'its', 'explicit', 'instructions', '.', '[SEP]', 'play', 'area', '[SEP]', 'your', 'play', 'area', 'is', 'the', 'area', 'around', 'your', 'faction', 'board', '.', 'cards', 'in', 'your', 'play', 'area', 'can', 'only', 'be', 'spent', ',', 'discarded', ',', 'or', 'used', 'for', 'other', 'purposes', 'if', 'explicitly', 'instructed', '.', '[SEP]', 'enemy', '[SEP]', 'an', 'enemy', 'is', 'any', 'other', 'player', 'who', 'you', 'are', 'not', 'in', 'a', 'coalition', 'with', '(', '9', '.', '2', '.', '8', ')', '.', '[SEP]', 'ruler', '[SEP]', 'the', 'ruler', 'of', 'a', 'clearing', 'is', 'the', 'player', 'with', 'the', 'most', 'total', 'warriors', 'and', 'buildings', 'in', 'that', 'clearing', '.', '(', 'token', '##s', 'and', 'pawn', '##s', 'do', 'not', 'contribute', 'to', 'rule', '.', ')', 'if', 'there', 'is', 'a', 'tie', 'between', 'players', 'in', 'a', 'clearing', ',', 'no', 'one', 'there', 'is', 'the', 'ruler', '.', '[SEP]']\n"
          ],
          "name": "stdout"
        }
      ]
    },
    {
      "cell_type": "code",
      "metadata": {
        "id": "Xwj83MJWvxB9"
      },
      "source": [
        "#BUILD FINAL CONTEXT\n",
        "\n",
        "start_time = time.perf_counter()\n",
        "\n",
        "iterator = len(context_ids[0])\n",
        "separators = []\n",
        "for widx in range(iterator):\n",
        "  if context_ids[0][widx].item() == 102: # Find all separators - probably better way to do this in Python\n",
        "    separators.append(widx)\n",
        "separators = np.array(separators) # Convert to numpy array. Make more efficient later.\n",
        "#Fixed top-k sampling - Need to build this out so you ignore duplicate window sizes\n",
        "k = 10 # Choose k\n",
        "res = sorted(range(len(y)), key = lambda sub: y[sub])[-k:] # Find top attention values\n",
        "res = np.array(res)\n",
        "\n",
        "window_list = []\n",
        "iterator = len(res)\n",
        "for widx in range(iterator):\n",
        "  window_top = separators[separators > res[widx]].min()\n",
        "  window_bottom = separators[separators < res[widx]].max()\n",
        "  print((tokenizer.convert_ids_to_tokens(context_ids[0]))[res[widx]], \",\", window_bottom, \"-\", window_top)\n",
        "  window_list.append(range(window_bottom, window_top))\n",
        "\n",
        "window_list = list(set(window_list)) # Delete duplicates. Probably inefficient.\n",
        "#print(\"Final number of windows:\", len(window_list))\n",
        "\n",
        "window_id_list = []\n",
        "\n",
        "for cidx in window_list:\n",
        "  for i in cidx:\n",
        "    window_id = context_ids[0][i]\n",
        "    if window_id != 102: # Strip [SEP] tokens for model input\n",
        "      window_id_list.append(window_id)\n",
        "    #print(window_id)\n",
        "window_token_list = tokenizer.convert_ids_to_tokens(window_id_list)\n",
        "#print(window_id_list)\n",
        "#print(window_token_list)\n",
        "#print(len(window_id_list))\n",
        "\n",
        "final_context_string = tokenizer.convert_tokens_to_string(window_token_list)\n",
        "end_time = time.perf_counter()\n",
        "print(f\"Tokens in Final Context: {len(window_token_list)}\")\n",
        "print(f\"Question List: {question_list}\")\n",
        "print(f\"Final Context: {final_context_string}\")\n",
        "print(f\"Time taken: {end_time-start_time} s\")\n",
        "\n",
        "# GET THE ANSWER SPAN\n",
        "\n",
        "#print(question_list[discriminator])\n",
        "#print(final_context_string)\n",
        "inputs = tokenizer_qa(question_list[0],final_context_string,return_tensors='pt')\n",
        "#print(inputs)\n",
        "answer_start_scores, answer_end_scores = model_qa(**inputs)\n",
        "#print(answer_start_scores)\n",
        "answer_start = torch.argmax(answer_start_scores)  # get the most likely beginning of answer with the argmax of the score\n",
        "answer_end = torch.argmax(answer_end_scores) + 1  # get the most likely end of answer with the argmax of the score\n",
        "#print(answer_start)\n",
        "#print(answer_end)\n",
        "tokenizer_qa.convert_tokens_to_string(tokenizer_qa.convert_ids_to_tokens(inputs[\"input_ids\"][0][answer_start:answer_end]))"
      ],
      "execution_count": null,
      "outputs": []
    },
    {
      "cell_type": "code",
      "metadata": {
        "id": "Za6LtXDYupro"
      },
      "source": [
        "#outputs = model(q_tokens, output_hidden_states=True)\n",
        "#print(len(outputs[1][0][0][0])) # You've found the contextualized hidden states!"
      ],
      "execution_count": null,
      "outputs": []
    }
  ]
}